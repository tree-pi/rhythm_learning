{
 "cells": [
  {
   "cell_type": "code",
   "execution_count": 2,
   "metadata": {
    "collapsed": true,
    "deletable": true,
    "editable": true
   },
   "outputs": [],
   "source": [
    "import numpy as np\n",
    "from numpy import random\n",
    "from copy import deepcopy\n",
    "import matplotlib.pyplot as plt\n",
    "from IPython.core.debugger import set_trace\n",
    "import pandas as pd\n"
   ]
  },
  {
   "cell_type": "code",
   "execution_count": 3,
   "metadata": {
    "collapsed": true,
    "deletable": true,
    "editable": true
   },
   "outputs": [],
   "source": [
    "# general settings used for both generative model and fitting\n",
    "plenmax=12\n",
    "nbtype = 3 # in total three types of beat\n",
    "epsilon = 0.1 # probability of small variation"
   ]
  },
  {
   "cell_type": "markdown",
   "metadata": {
    "deletable": true,
    "editable": true
   },
   "source": [
    "# generative_model"
   ]
  },
  {
   "cell_type": "code",
   "execution_count": 4,
   "metadata": {
    "collapsed": true,
    "deletable": true,
    "editable": true
   },
   "outputs": [],
   "source": [
    "# pattern generator: uniform for pattern length, uniform for each specific pattern. \n",
    "# here includes repetition. like 1010 is the same as 10 but not reduced. This will be dealt with latter\n",
    "# also it contains like 0000. alternative: force there to be at least one 2. \n",
    "def gen_pattern(clock = []):\n",
    "    \n",
    "    if len(clock)==0: #no prior\n",
    "        plen = random.randint(plenmax)+1 # pattern len minimum = 1\n",
    "        pattern = [random.randint(nbtype) for k in range(plen)]  \n",
    "        while 2 not in pattern:\n",
    "            pattern = [random.randint(nbtype) for k in range(plen)]  \n",
    "    else:\n",
    "        pattern = [random.randint(nbtype) for k in clock]\n",
    "        pattern[clock==2] = 2\n",
    "    return pattern\n",
    "\n",
    "def ptn_devia(ptn,eps):\n",
    "    for kp,p in enumerate(ptn):\n",
    "        if random.rand()<eps:\n",
    "            ptn[kp] = (p+random.randint(nbtype-1)+1)%nbtype # change p to something else\n",
    "    return ptn\n",
    "\n",
    "# repetition controller: transition probability like in markov model\n",
    "def rep_controller(repnow=0):\n",
    "    prep = fun_prep(repnow) # higher repetition => less likely to keep repeting. --wonder what's the corresponding prob distribution??\n",
    "    dorep =  random.rand()<prep\n",
    "    repnow += dorep\n",
    "    return dorep\n",
    "def fun_prep(repnow):\n",
    "    return 1/(2+repnow)\n",
    "\n",
    "def meta_controller(metaprior = 'simple',nstep=24):        \n",
    "    # generate beats by combining the controller and pattern generator\n",
    "    allbts = []\n",
    "    allpatterns = []\n",
    "    # initialize with the first pattern\n",
    "    pattern = gen_pattern()\n",
    "    allbts += pattern\n",
    "    allpatterns.append({'ptn':pattern,'nrep':0})\n",
    "    if metaprior == 'simple':\n",
    "        # simplest model: just continue without refering to pervious patterns\n",
    "        for kstep in range(nstep-1):\n",
    "            thisptn = allpatterns[-1]        \n",
    "            dorep = rep_controller(thisptn['nrep'])\n",
    "            if dorep:\n",
    "                allbts += ptn_devia(thisptn['ptn'],eps)\n",
    "                thisptn['nrep'] += 1\n",
    "            else:\n",
    "                newptn = gen_pattern()\n",
    "                allbts += ptn_devia(newptn,eps)\n",
    "                allpatterns.append({'ptn':newptn,'nrep':0})\n",
    "                \n",
    "    elif metaprior == 'VCVC': # verse, chorus, verse, chorus; in chorus the pattern is coherent\n",
    "        \n",
    "        verselen = 8\n",
    "        choruslen = 4\n",
    "        # generate the first V-C structure\n",
    "        for kstep in range(verselen-1):\n",
    "            thisptn = allpatterns[-1]        \n",
    "            dorep = rep_controller(thisptn['nrep'])\n",
    "            if dorep:\n",
    "                allbts += thisptn['ptn']\n",
    "                thisptn['nrep'] += 1\n",
    "            else:\n",
    "                newptn = gen_pattern()\n",
    "                allbts += newptn\n",
    "                allpatterns.append({'ptn':newptn,'nrep':0})\n",
    "        chorusptn = gen_pattern()        \n",
    "        for k in range(choruslen):\n",
    "            allbts += chorusptn\n",
    "        allpatterns.append({'ptn':chorusptn,'nrep':choruslen})\n",
    "        \n",
    "        # generate the following, with small probability of changing to new beats\n",
    "        for k in range(int(nstep/(verselen+choruslen))-1): \n",
    "            if \n",
    "            allbts += allbts\n",
    "            allpatterns +=allpatterns\n",
    "            \n",
    "    elif metaprior == 'comeback': # when transition to diff pattern, prefer patterns appeared before        \n",
    "        verselen = 8\n",
    "        choruslen = 4\n",
    "        # generate the first V-C structure\n",
    "        for kstep in range(verselen-1):\n",
    "            thisptn = allpatterns[-1]        \n",
    "            dorep = rep_controller(thisptn['nrep'])\n",
    "            if dorep:\n",
    "                allbts += thisptn['ptn']\n",
    "                thisptn['nrep'] += 1\n",
    "            else:\n",
    "                newptn = gen_pattern()\n",
    "                allbts += newptn\n",
    "                allpatterns.append({'ptn':newptn,'nrep':0})\n",
    "        chorusptn = gen_pattern()        \n",
    "        for k in range(choruslen):\n",
    "            allbts += chorusptn\n",
    "        allpatterns.append({'ptn':chorusptn,'nrep':choruslen})\n",
    "        \n",
    "        # generate the following, with small probability of changing to new beats\n",
    "        for k in range(int(nstep/(verselen+choruslen))-1): \n",
    "            if \n",
    "            allbts += allbts\n",
    "            allpatterns +=allpatterns\n",
    "        \n",
    "    return allbts, allpatterns"
   ]
  },
  {
   "cell_type": "code",
   "execution_count": 5,
   "metadata": {
    "collapsed": true,
    "deletable": true,
    "editable": true
   },
   "outputs": [],
   "source": [
    "allbts, allpatterns=meta_controller(metaprior = 'VCVC',nstep=24)"
   ]
  },
  {
   "cell_type": "markdown",
   "metadata": {
    "deletable": true,
    "editable": true
   },
   "source": [
    "# complexity"
   ]
  },
  {
   "cell_type": "code",
   "execution_count": 6,
   "metadata": {
    "collapsed": true,
    "deletable": true,
    "editable": true
   },
   "outputs": [],
   "source": [
    "def ptn_posterior(ptn,data,clock=[]):\n",
    "    prior = 1/plenmax/(nbtype**len(ptn) - (nbtype-1)**len(ptn)) # exclude patterns without a stress (2)\n",
    "    ll=0\n",
    "    for k,beat in enumerate(data):\n",
    "        plen = len(ptn)\n",
    "        ll+=np.log((ptn[k%plen]==beat)*(1-epsilon) +(ptn[k%plen]!=beat)*epsilon )\n",
    "    return np.log(prior) + ll\n",
    "#TODO: with metaprior, transition will have structural bias...to be figured out\n",
    "def stim_posterior(ptns,data,metaprior='simple',clock=[]):\n",
    "    logpstr=0\n",
    "    idx=0\n",
    "    for ptn in ptns:\n",
    "        nrep = ptn['nrep']\n",
    "        for k in range(nrep):\n",
    "            logpstr += np.log(fun_prep(k)) # prob of repeating\n",
    "        if ptn != ptns[-1]:\n",
    "            logpstr += np.log(1-fun_prep(nrep)) # prob of transitioning\n",
    "        # get the pattern posterior for the corresponding chunk\n",
    "        ptnlen=len(ptn['ptn'])*ptn['nrep']\n",
    "        chunk = data[idx:idx+ptnlen]\n",
    "        idx=idx+ptnlen\n",
    "        logpstr += ptn_posterior(ptn['ptn'],chunk)\n",
    "    return logpstr"
   ]
  },
  {
   "cell_type": "code",
   "execution_count": 7,
   "metadata": {
    "collapsed": true,
    "deletable": true,
    "editable": true
   },
   "outputs": [],
   "source": [
    "# for convenience: generate actual beats from pattern \n",
    "def ptns2beat(ptns):\n",
    "    allbts=[]\n",
    "    for ptn in ptns:\n",
    "        for krep in range(ptn['nrep']):\n",
    "            allbts += ptn_devia(ptn['ptn'],epsilon)\n",
    "    return allbts\n",
    "            "
   ]
  },
  {
   "cell_type": "code",
   "execution_count": 13,
   "metadata": {
    "collapsed": false,
    "deletable": true,
    "editable": true
   },
   "outputs": [
    {
     "name": "stdout",
     "output_type": "stream",
     "text": [
      "-13.132553913\n",
      "-16.9087571953\n"
     ]
    }
   ],
   "source": [
    "# get posterior for the pattern group\n",
    "# sanity check 1: shorter patterns are preferred? -- yes if only see pattern posterior; not always given the transition function\n",
    "ptngrp = [{'ptn':[2,1,0,1],'nrep':4}]\n",
    "beats=ptns2beat(ptngrp)\n",
    "print(stim_posterior(ptngrp,beats))\n",
    "ptngrp = [{'ptn':[2,1,0,1,2,1,0,1],'nrep':2}]\n",
    "beats=ptns2beat(ptngrp)\n",
    "print(stim_posterior(ptngrp,beats))"
   ]
  },
  {
   "cell_type": "markdown",
   "metadata": {
    "deletable": true,
    "editable": true
   },
   "source": [
    "# fitting"
   ]
  },
  {
   "cell_type": "code",
   "execution_count": null,
   "metadata": {
    "collapsed": true,
    "deletable": true,
    "editable": true
   },
   "outputs": [],
   "source": [
    "\n",
    "def ptn_hypothesis(beats):\n",
    "    ptn = beats\n",
    "    "
   ]
  }
 ],
 "metadata": {
  "kernelspec": {
   "display_name": "Python [Root]",
   "language": "python",
   "name": "Python [Root]"
  },
  "language_info": {
   "codemirror_mode": {
    "name": "ipython",
    "version": 3
   },
   "file_extension": ".py",
   "mimetype": "text/x-python",
   "name": "python",
   "nbconvert_exporter": "python",
   "pygments_lexer": "ipython3",
   "version": "3.5.2"
  }
 },
 "nbformat": 4,
 "nbformat_minor": 2
}
